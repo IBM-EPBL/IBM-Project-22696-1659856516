{
  "nbformat": 4,
  "nbformat_minor": 0,
  "metadata": {
    "colab": {
      "provenance": []
    },
    "kernelspec": {
      "name": "python3",
      "display_name": "Python 3"
    },
    "language_info": {
      "name": "python"
    }
  },
  "cells": [
    {
      "cell_type": "code",
      "source": [
        "#importing image data generator library\n",
        "from tensorflow.keras.preprocessing.image import ImageDataGenerator"
      ],
      "metadata": {
        "id": "L06Oe0Mib4oG"
      },
      "execution_count": 12,
      "outputs": []
    },
    {
      "cell_type": "markdown",
      "source": [
        "Image Data Augmentation"
      ],
      "metadata": {
        "id": "tFrni_t5b8YB"
      }
    },
    {
      "cell_type": "code",
      "source": [
        "#Configuring image Data Generator Class\n",
        "\n",
        "#Setting Parameter for Image Augmentation for training data\n",
        "\n",
        "train_datagen = ImageDataGenerator(rescale = 1./255, shear_range = 0.2, zoom_range = 0.2, horizontal_flip = True)\n",
        "\n",
        "#Image Data Augmentation for testing data\n",
        "\n",
        "test_datagen = ImageDataGenerator(rescale = 1./255)"
      ],
      "metadata": {
        "id": "uRND0Thtb9TY"
      },
      "execution_count": 13,
      "outputs": []
    },
    {
      "cell_type": "markdown",
      "source": [
        "Apply ImageDataGenerator Functionality To Trainset And Testset"
      ],
      "metadata": {
        "id": "re6exwNkcCO4"
      }
    },
    {
      "cell_type": "code",
      "source": [
        "#Performing data augmentation to train data\n",
        "\n",
        "x_train = train_datagen.flow_from_directory('/content/drive/MyDrive/dataset/train_set', target_size = (64,64), batch_size = 5, color_mode = 'rgb', class_mode = 'categorical')\n",
        "\n",
        "#performing data augmentation to test data\n",
        "\n",
        "x_test = test_datagen.flow_from_directory('/content/drive/MyDrive/dataset/test_set', target_size = (64,64), batch_size = 5, color_mode = 'rgb', class_mode = 'categorical')"
      ],
      "metadata": {
        "colab": {
          "base_uri": "https://localhost:8080/"
        },
        "id": "VvDAjGP4cD6x",
        "outputId": "a320c6ab-a193-4cb5-be57-b9e97d9e7fab"
      },
      "execution_count": 14,
      "outputs": [
        {
          "output_type": "stream",
          "name": "stdout",
          "text": [
            "Found 742 images belonging to 4 classes.\n",
            "Found 198 images belonging to 4 classes.\n"
          ]
        }
      ]
    },
    {
      "cell_type": "code",
      "source": [
        "#importing neccessary libraries\n",
        "\n",
        "import numpy as np\n",
        "import tensorflow\n",
        "from tensorflow.keras.models import Sequential\n",
        "from tensorflow.keras.layers import Dense,Conv2D,MaxPooling2D,Flatten"
      ],
      "metadata": {
        "id": "VKLLkE-BcKhH"
      },
      "execution_count": 15,
      "outputs": []
    },
    {
      "cell_type": "code",
      "source": [
        "# initialising the model and adding CNN layers\n",
        "\n",
        "model = Sequential()\n",
        "\n",
        "# First convolution layer and pooling\n",
        "model.add(Conv2D(32,(3,3),input_shape=(64,64,3),activation='relu'))\n",
        "model.add(MaxPooling2D(pool_size=(2,2)))\n",
        "\n",
        "#Second convolution layer and pooling\n",
        "model.add(Conv2D(32,(3,3),activation='relu'))\n",
        "model.add(MaxPooling2D(pool_size=(2,2)))\n",
        "\n",
        "#Flattening the layers\n",
        "model.add(Flatten())\n",
        "\n",
        "#Adding Dense Layers\n",
        "model.add(Dense(units=128,activation='relu'))\n",
        "model.add(Dense(units=4,activation='softmax'))"
      ],
      "metadata": {
        "id": "Yp4iZ4Xncfsk"
      },
      "execution_count": 16,
      "outputs": []
    },
    {
      "cell_type": "code",
      "source": [
        "# Summary of our model\n",
        "\n",
        "model.summary()"
      ],
      "metadata": {
        "colab": {
          "base_uri": "https://localhost:8080/"
        },
        "id": "sG12RAJeckHa",
        "outputId": "032318e1-07c8-4d49-e96d-b7607bdc0631"
      },
      "execution_count": 17,
      "outputs": [
        {
          "output_type": "stream",
          "name": "stdout",
          "text": [
            "Model: \"sequential_1\"\n",
            "_________________________________________________________________\n",
            " Layer (type)                Output Shape              Param #   \n",
            "=================================================================\n",
            " conv2d_2 (Conv2D)           (None, 62, 62, 32)        896       \n",
            "                                                                 \n",
            " max_pooling2d_2 (MaxPooling  (None, 31, 31, 32)       0         \n",
            " 2D)                                                             \n",
            "                                                                 \n",
            " conv2d_3 (Conv2D)           (None, 29, 29, 32)        9248      \n",
            "                                                                 \n",
            " max_pooling2d_3 (MaxPooling  (None, 14, 14, 32)       0         \n",
            " 2D)                                                             \n",
            "                                                                 \n",
            " flatten_1 (Flatten)         (None, 6272)              0         \n",
            "                                                                 \n",
            " dense_2 (Dense)             (None, 128)               802944    \n",
            "                                                                 \n",
            " dense_3 (Dense)             (None, 4)                 516       \n",
            "                                                                 \n",
            "=================================================================\n",
            "Total params: 813,604\n",
            "Trainable params: 813,604\n",
            "Non-trainable params: 0\n",
            "_________________________________________________________________\n"
          ]
        }
      ]
    },
    {
      "cell_type": "code",
      "source": [
        "# Fitting the model\n",
        "model.compile(loss='binary_crossentropy', optimizer='adam', metrics=['accuracy'])"
      ],
      "metadata": {
        "id": "e6oah10PcpDc"
      },
      "execution_count": 18,
      "outputs": []
    },
    {
      "cell_type": "code",
      "source": [
        "model.fit_generator(generator=x_train,steps_per_epoch=len(x_train),epochs=20,validation_data=x_test,validation_steps=len(x_test))"
      ],
      "metadata": {
        "colab": {
          "base_uri": "https://localhost:8080/"
        },
        "id": "KFB4mYQYcuHK",
        "outputId": "3e5e6648-33e1-448a-e235-e0714e2a535a"
      },
      "execution_count": 11,
      "outputs": [
        {
          "output_type": "stream",
          "name": "stdout",
          "text": [
            "Epoch 1/20\n"
          ]
        },
        {
          "output_type": "stream",
          "name": "stderr",
          "text": [
            "/usr/local/lib/python3.7/dist-packages/ipykernel_launcher.py:1: UserWarning: `Model.fit_generator` is deprecated and will be removed in a future version. Please use `Model.fit`, which supports generators.\n",
            "  \"\"\"Entry point for launching an IPython kernel.\n"
          ]
        },
        {
          "output_type": "stream",
          "name": "stdout",
          "text": [
            "149/149 [==============================] - 43s 286ms/step - loss: 0.3613 - accuracy: 0.6617 - val_loss: 0.3524 - val_accuracy: 0.7424\n",
            "Epoch 2/20\n",
            "149/149 [==============================] - 42s 282ms/step - loss: 0.3053 - accuracy: 0.7156 - val_loss: 0.2863 - val_accuracy: 0.7727\n",
            "Epoch 3/20\n",
            "149/149 [==============================] - 41s 272ms/step - loss: 0.2814 - accuracy: 0.7426 - val_loss: 0.3230 - val_accuracy: 0.7172\n",
            "Epoch 4/20\n",
            "149/149 [==============================] - 42s 284ms/step - loss: 0.2503 - accuracy: 0.7884 - val_loss: 0.3048 - val_accuracy: 0.7475\n",
            "Epoch 5/20\n",
            "149/149 [==============================] - 42s 280ms/step - loss: 0.2231 - accuracy: 0.8100 - val_loss: 0.2409 - val_accuracy: 0.8182\n",
            "Epoch 6/20\n",
            "149/149 [==============================] - 42s 280ms/step - loss: 0.2230 - accuracy: 0.8154 - val_loss: 0.4222 - val_accuracy: 0.6364\n",
            "Epoch 7/20\n",
            "149/149 [==============================] - 42s 280ms/step - loss: 0.2415 - accuracy: 0.8073 - val_loss: 0.2902 - val_accuracy: 0.7828\n",
            "Epoch 8/20\n",
            "149/149 [==============================] - 42s 281ms/step - loss: 0.1960 - accuracy: 0.8221 - val_loss: 0.3189 - val_accuracy: 0.7222\n",
            "Epoch 9/20\n",
            "149/149 [==============================] - 44s 298ms/step - loss: 0.1787 - accuracy: 0.8733 - val_loss: 0.3579 - val_accuracy: 0.7626\n",
            "Epoch 10/20\n",
            "149/149 [==============================] - 41s 273ms/step - loss: 0.1490 - accuracy: 0.8935 - val_loss: 0.3211 - val_accuracy: 0.7980\n",
            "Epoch 11/20\n",
            "149/149 [==============================] - 44s 295ms/step - loss: 0.1442 - accuracy: 0.8841 - val_loss: 0.3390 - val_accuracy: 0.7727\n",
            "Epoch 12/20\n",
            "149/149 [==============================] - 42s 284ms/step - loss: 0.1379 - accuracy: 0.8962 - val_loss: 0.3091 - val_accuracy: 0.7727\n",
            "Epoch 13/20\n",
            "149/149 [==============================] - 42s 285ms/step - loss: 0.1460 - accuracy: 0.8868 - val_loss: 0.3237 - val_accuracy: 0.7828\n",
            "Epoch 14/20\n",
            "149/149 [==============================] - 40s 271ms/step - loss: 0.1150 - accuracy: 0.9232 - val_loss: 0.3471 - val_accuracy: 0.7576\n",
            "Epoch 15/20\n",
            "149/149 [==============================] - 42s 284ms/step - loss: 0.1230 - accuracy: 0.8935 - val_loss: 0.3356 - val_accuracy: 0.8182\n",
            "Epoch 16/20\n",
            "149/149 [==============================] - 42s 283ms/step - loss: 0.1236 - accuracy: 0.9030 - val_loss: 0.3545 - val_accuracy: 0.7980\n",
            "Epoch 17/20\n",
            "149/149 [==============================] - 40s 271ms/step - loss: 0.0984 - accuracy: 0.9353 - val_loss: 0.3507 - val_accuracy: 0.8182\n",
            "Epoch 18/20\n",
            "149/149 [==============================] - 44s 298ms/step - loss: 0.0751 - accuracy: 0.9447 - val_loss: 0.3786 - val_accuracy: 0.7879\n",
            "Epoch 19/20\n",
            "149/149 [==============================] - 40s 272ms/step - loss: 0.0715 - accuracy: 0.9528 - val_loss: 0.3835 - val_accuracy: 0.8131\n",
            "Epoch 20/20\n",
            "149/149 [==============================] - 42s 284ms/step - loss: 0.0787 - accuracy: 0.9420 - val_loss: 0.3447 - val_accuracy: 0.7980\n"
          ]
        },
        {
          "output_type": "execute_result",
          "data": {
            "text/plain": [
              "<keras.callbacks.History at 0x7f6190370ad0>"
            ]
          },
          "metadata": {},
          "execution_count": 11
        }
      ]
    },
    {
      "cell_type": "code",
      "source": [
        "# Save the model\n",
        "\n",
        "model.save('disaster.h5')\n",
        "model_json = model.to_json()\n",
        "with open(\"/content/drive/MyDrive/IBM/model-bw.json\", \"w\") as json_file:\n",
        "  json_file.write(model_json)"
      ],
      "metadata": {
        "id": "8cyBXTGPdq_f"
      },
      "execution_count": null,
      "outputs": []
    },
    {
      "cell_type": "code",
      "source": [
        "# Load the saved model\n",
        "\n",
        "from tensorflow.keras.models import load_model\n",
        "from tensorflow.keras.preprocessing import image\n",
        "model = load_model('disaster.h5')"
      ],
      "metadata": {
        "id": "1nQ24kcVjEtQ"
      },
      "execution_count": 20,
      "outputs": []
    },
    {
      "cell_type": "code",
      "source": [
        "x_train.class_indices"
      ],
      "metadata": {
        "colab": {
          "base_uri": "https://localhost:8080/"
        },
        "id": "3uEmxnTdjJRo",
        "outputId": "c04161d6-0ccf-4bb8-e28f-cc07f32a0854"
      },
      "execution_count": 21,
      "outputs": [
        {
          "output_type": "execute_result",
          "data": {
            "text/plain": [
              "{'Cyclone': 0, 'Earthquake': 1, 'Flood': 2, 'Wildfire': 3}"
            ]
          },
          "metadata": {},
          "execution_count": 21
        }
      ]
    },
    {
      "cell_type": "code",
      "source": [
        "# taking image as input\n",
        "\n",
        "img = image.load_img('/content/drive/MyDrive/dataset/test_set/Flood/1030.jpg',target_size=(64,64))\n",
        "x=image.img_to_array(img)\n",
        "x=np.expand_dims(x,axis=0)\n",
        "index=['Cyclone','Earthquake','Flood','Wildfire']\n",
        "y=np.argmax(model.predict(x),axis=1)\n",
        "print(index[int(y)])"
      ],
      "metadata": {
        "colab": {
          "base_uri": "https://localhost:8080/"
        },
        "id": "jRP3JD_gjKrS",
        "outputId": "5cbdd8c1-4e12-46b8-b1e6-d03471105b9b"
      },
      "execution_count": 23,
      "outputs": [
        {
          "output_type": "stream",
          "name": "stdout",
          "text": [
            "1/1 [==============================] - 0s 176ms/step\n",
            "Flood\n"
          ]
        }
      ]
    }
  ]
}